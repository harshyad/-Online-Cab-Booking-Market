{
  "cells": [
    {
      "cell_type": "markdown",
      "metadata": {
        "id": "view-in-github",
        "colab_type": "text"
      },
      "source": [
        "<a href=\"https://colab.research.google.com/github/Shreyas2831/Online-Cab-Booking-System/blob/main/Populationanalysis.ipynb\" target=\"_parent\"><img src=\"https://colab.research.google.com/assets/colab-badge.svg\" alt=\"Open In Colab\"/></a>"
      ]
    },
    {
      "cell_type": "code",
      "execution_count": null,
      "metadata": {
        "id": "ITxMiQil0msi"
      },
      "outputs": [],
      "source": [
        "import pandas as pd\n",
        "import numpy as np"
      ]
    },
    {
      "cell_type": "code",
      "execution_count": null,
      "metadata": {
        "id": "O5g9G9CD1kjo"
      },
      "outputs": [],
      "source": [
        "import matplotlib.pyplot as plt\n",
        "import seaborn as sns"
      ]
    },
    {
      "cell_type": "code",
      "execution_count": null,
      "metadata": {
        "id": "GRkkGPMT13UX"
      },
      "outputs": [],
      "source": [
        "df = pd.read_csv('Indian_cities.csv')"
      ]
    },
    {
      "cell_type": "code",
      "execution_count": null,
      "metadata": {
        "colab": {
          "base_uri": "https://localhost:8080/",
          "height": 352
        },
        "id": "nJS0_gvK2BJ_",
        "outputId": "0f6ef5cb-7810-46c2-c3ec-4c41ac33aec6"
      },
      "outputs": [
        {
          "output_type": "execute_result",
          "data": {
            "text/plain": [
              "  name_of_city  state_code      state_name  dist_code  population_total  \\\n",
              "0      Abohar            3          PUNJAB          9            145238   \n",
              "1    Achalpur           27     MAHARASHTRA          7            112293   \n",
              "2    Adilabad           28  ANDHRA PRADESH          1            117388   \n",
              "3   Adityapur           20       JHARKHAND         24            173988   \n",
              "4       Adoni           28  ANDHRA PRADESH         21            166537   \n",
              "\n",
              "   population_male  population_female  0-6_population_total  \\\n",
              "0            76840              68398                 15870   \n",
              "1            58256              54037                 11810   \n",
              "2            59232              58156                 13103   \n",
              "3            91495              82493                 23042   \n",
              "4            82743              83794                 18406   \n",
              "\n",
              "   0-6_population_male  0-6_population_female  ...  sex_ratio  \\\n",
              "0                 8587                   7283  ...        890   \n",
              "1                 6186                   5624  ...        928   \n",
              "2                 6731                   6372  ...        982   \n",
              "3                12063                  10979  ...        902   \n",
              "4                 9355                   9051  ...       1013   \n",
              "\n",
              "   child_sex_ratio  effective_literacy_rate_total  \\\n",
              "0              848                          79.86   \n",
              "1              909                          91.99   \n",
              "2              947                          80.51   \n",
              "3              910                          83.46   \n",
              "4              968                          68.38   \n",
              "\n",
              "   effective_literacy_rate_male  effective_literacy_rate_female  \\\n",
              "0                         85.49                           73.59   \n",
              "1                         94.77                           89.00   \n",
              "2                         88.18                           72.73   \n",
              "3                         89.98                           76.23   \n",
              "4                         76.58                           60.33   \n",
              "\n",
              "                location  total_graduates  male_graduates female_graduates  \\\n",
              "0  30.1452928,74.1993043            16287            8612             7675   \n",
              "1   21.257584,77.5086754             8863            5269             3594   \n",
              "2   19.0809075,79.560344            10565            6797             3768   \n",
              "3  22.7834741,86.1576889            19225           12189             7036   \n",
              "4  15.6322227,77.2728368            11902            7871             4031   \n",
              "\n",
              "   age  \n",
              "0   25  \n",
              "1   38  \n",
              "2   28  \n",
              "3   44  \n",
              "4   18  \n",
              "\n",
              "[5 rows x 23 columns]"
            ],
            "text/html": [
              "\n",
              "  <div id=\"df-819af743-ea03-4887-86b8-0642b6e76360\">\n",
              "    <div class=\"colab-df-container\">\n",
              "      <div>\n",
              "<style scoped>\n",
              "    .dataframe tbody tr th:only-of-type {\n",
              "        vertical-align: middle;\n",
              "    }\n",
              "\n",
              "    .dataframe tbody tr th {\n",
              "        vertical-align: top;\n",
              "    }\n",
              "\n",
              "    .dataframe thead th {\n",
              "        text-align: right;\n",
              "    }\n",
              "</style>\n",
              "<table border=\"1\" class=\"dataframe\">\n",
              "  <thead>\n",
              "    <tr style=\"text-align: right;\">\n",
              "      <th></th>\n",
              "      <th>name_of_city</th>\n",
              "      <th>state_code</th>\n",
              "      <th>state_name</th>\n",
              "      <th>dist_code</th>\n",
              "      <th>population_total</th>\n",
              "      <th>population_male</th>\n",
              "      <th>population_female</th>\n",
              "      <th>0-6_population_total</th>\n",
              "      <th>0-6_population_male</th>\n",
              "      <th>0-6_population_female</th>\n",
              "      <th>...</th>\n",
              "      <th>sex_ratio</th>\n",
              "      <th>child_sex_ratio</th>\n",
              "      <th>effective_literacy_rate_total</th>\n",
              "      <th>effective_literacy_rate_male</th>\n",
              "      <th>effective_literacy_rate_female</th>\n",
              "      <th>location</th>\n",
              "      <th>total_graduates</th>\n",
              "      <th>male_graduates</th>\n",
              "      <th>female_graduates</th>\n",
              "      <th>age</th>\n",
              "    </tr>\n",
              "  </thead>\n",
              "  <tbody>\n",
              "    <tr>\n",
              "      <th>0</th>\n",
              "      <td>Abohar</td>\n",
              "      <td>3</td>\n",
              "      <td>PUNJAB</td>\n",
              "      <td>9</td>\n",
              "      <td>145238</td>\n",
              "      <td>76840</td>\n",
              "      <td>68398</td>\n",
              "      <td>15870</td>\n",
              "      <td>8587</td>\n",
              "      <td>7283</td>\n",
              "      <td>...</td>\n",
              "      <td>890</td>\n",
              "      <td>848</td>\n",
              "      <td>79.86</td>\n",
              "      <td>85.49</td>\n",
              "      <td>73.59</td>\n",
              "      <td>30.1452928,74.1993043</td>\n",
              "      <td>16287</td>\n",
              "      <td>8612</td>\n",
              "      <td>7675</td>\n",
              "      <td>25</td>\n",
              "    </tr>\n",
              "    <tr>\n",
              "      <th>1</th>\n",
              "      <td>Achalpur</td>\n",
              "      <td>27</td>\n",
              "      <td>MAHARASHTRA</td>\n",
              "      <td>7</td>\n",
              "      <td>112293</td>\n",
              "      <td>58256</td>\n",
              "      <td>54037</td>\n",
              "      <td>11810</td>\n",
              "      <td>6186</td>\n",
              "      <td>5624</td>\n",
              "      <td>...</td>\n",
              "      <td>928</td>\n",
              "      <td>909</td>\n",
              "      <td>91.99</td>\n",
              "      <td>94.77</td>\n",
              "      <td>89.00</td>\n",
              "      <td>21.257584,77.5086754</td>\n",
              "      <td>8863</td>\n",
              "      <td>5269</td>\n",
              "      <td>3594</td>\n",
              "      <td>38</td>\n",
              "    </tr>\n",
              "    <tr>\n",
              "      <th>2</th>\n",
              "      <td>Adilabad</td>\n",
              "      <td>28</td>\n",
              "      <td>ANDHRA PRADESH</td>\n",
              "      <td>1</td>\n",
              "      <td>117388</td>\n",
              "      <td>59232</td>\n",
              "      <td>58156</td>\n",
              "      <td>13103</td>\n",
              "      <td>6731</td>\n",
              "      <td>6372</td>\n",
              "      <td>...</td>\n",
              "      <td>982</td>\n",
              "      <td>947</td>\n",
              "      <td>80.51</td>\n",
              "      <td>88.18</td>\n",
              "      <td>72.73</td>\n",
              "      <td>19.0809075,79.560344</td>\n",
              "      <td>10565</td>\n",
              "      <td>6797</td>\n",
              "      <td>3768</td>\n",
              "      <td>28</td>\n",
              "    </tr>\n",
              "    <tr>\n",
              "      <th>3</th>\n",
              "      <td>Adityapur</td>\n",
              "      <td>20</td>\n",
              "      <td>JHARKHAND</td>\n",
              "      <td>24</td>\n",
              "      <td>173988</td>\n",
              "      <td>91495</td>\n",
              "      <td>82493</td>\n",
              "      <td>23042</td>\n",
              "      <td>12063</td>\n",
              "      <td>10979</td>\n",
              "      <td>...</td>\n",
              "      <td>902</td>\n",
              "      <td>910</td>\n",
              "      <td>83.46</td>\n",
              "      <td>89.98</td>\n",
              "      <td>76.23</td>\n",
              "      <td>22.7834741,86.1576889</td>\n",
              "      <td>19225</td>\n",
              "      <td>12189</td>\n",
              "      <td>7036</td>\n",
              "      <td>44</td>\n",
              "    </tr>\n",
              "    <tr>\n",
              "      <th>4</th>\n",
              "      <td>Adoni</td>\n",
              "      <td>28</td>\n",
              "      <td>ANDHRA PRADESH</td>\n",
              "      <td>21</td>\n",
              "      <td>166537</td>\n",
              "      <td>82743</td>\n",
              "      <td>83794</td>\n",
              "      <td>18406</td>\n",
              "      <td>9355</td>\n",
              "      <td>9051</td>\n",
              "      <td>...</td>\n",
              "      <td>1013</td>\n",
              "      <td>968</td>\n",
              "      <td>68.38</td>\n",
              "      <td>76.58</td>\n",
              "      <td>60.33</td>\n",
              "      <td>15.6322227,77.2728368</td>\n",
              "      <td>11902</td>\n",
              "      <td>7871</td>\n",
              "      <td>4031</td>\n",
              "      <td>18</td>\n",
              "    </tr>\n",
              "  </tbody>\n",
              "</table>\n",
              "<p>5 rows × 23 columns</p>\n",
              "</div>\n",
              "      <button class=\"colab-df-convert\" onclick=\"convertToInteractive('df-819af743-ea03-4887-86b8-0642b6e76360')\"\n",
              "              title=\"Convert this dataframe to an interactive table.\"\n",
              "              style=\"display:none;\">\n",
              "        \n",
              "  <svg xmlns=\"http://www.w3.org/2000/svg\" height=\"24px\"viewBox=\"0 0 24 24\"\n",
              "       width=\"24px\">\n",
              "    <path d=\"M0 0h24v24H0V0z\" fill=\"none\"/>\n",
              "    <path d=\"M18.56 5.44l.94 2.06.94-2.06 2.06-.94-2.06-.94-.94-2.06-.94 2.06-2.06.94zm-11 1L8.5 8.5l.94-2.06 2.06-.94-2.06-.94L8.5 2.5l-.94 2.06-2.06.94zm10 10l.94 2.06.94-2.06 2.06-.94-2.06-.94-.94-2.06-.94 2.06-2.06.94z\"/><path d=\"M17.41 7.96l-1.37-1.37c-.4-.4-.92-.59-1.43-.59-.52 0-1.04.2-1.43.59L10.3 9.45l-7.72 7.72c-.78.78-.78 2.05 0 2.83L4 21.41c.39.39.9.59 1.41.59.51 0 1.02-.2 1.41-.59l7.78-7.78 2.81-2.81c.8-.78.8-2.07 0-2.86zM5.41 20L4 18.59l7.72-7.72 1.47 1.35L5.41 20z\"/>\n",
              "  </svg>\n",
              "      </button>\n",
              "      \n",
              "  <style>\n",
              "    .colab-df-container {\n",
              "      display:flex;\n",
              "      flex-wrap:wrap;\n",
              "      gap: 12px;\n",
              "    }\n",
              "\n",
              "    .colab-df-convert {\n",
              "      background-color: #E8F0FE;\n",
              "      border: none;\n",
              "      border-radius: 50%;\n",
              "      cursor: pointer;\n",
              "      display: none;\n",
              "      fill: #1967D2;\n",
              "      height: 32px;\n",
              "      padding: 0 0 0 0;\n",
              "      width: 32px;\n",
              "    }\n",
              "\n",
              "    .colab-df-convert:hover {\n",
              "      background-color: #E2EBFA;\n",
              "      box-shadow: 0px 1px 2px rgba(60, 64, 67, 0.3), 0px 1px 3px 1px rgba(60, 64, 67, 0.15);\n",
              "      fill: #174EA6;\n",
              "    }\n",
              "\n",
              "    [theme=dark] .colab-df-convert {\n",
              "      background-color: #3B4455;\n",
              "      fill: #D2E3FC;\n",
              "    }\n",
              "\n",
              "    [theme=dark] .colab-df-convert:hover {\n",
              "      background-color: #434B5C;\n",
              "      box-shadow: 0px 1px 3px 1px rgba(0, 0, 0, 0.15);\n",
              "      filter: drop-shadow(0px 1px 2px rgba(0, 0, 0, 0.3));\n",
              "      fill: #FFFFFF;\n",
              "    }\n",
              "  </style>\n",
              "\n",
              "      <script>\n",
              "        const buttonEl =\n",
              "          document.querySelector('#df-819af743-ea03-4887-86b8-0642b6e76360 button.colab-df-convert');\n",
              "        buttonEl.style.display =\n",
              "          google.colab.kernel.accessAllowed ? 'block' : 'none';\n",
              "\n",
              "        async function convertToInteractive(key) {\n",
              "          const element = document.querySelector('#df-819af743-ea03-4887-86b8-0642b6e76360');\n",
              "          const dataTable =\n",
              "            await google.colab.kernel.invokeFunction('convertToInteractive',\n",
              "                                                     [key], {});\n",
              "          if (!dataTable) return;\n",
              "\n",
              "          const docLinkHtml = 'Like what you see? Visit the ' +\n",
              "            '<a target=\"_blank\" href=https://colab.research.google.com/notebooks/data_table.ipynb>data table notebook</a>'\n",
              "            + ' to learn more about interactive tables.';\n",
              "          element.innerHTML = '';\n",
              "          dataTable['output_type'] = 'display_data';\n",
              "          await google.colab.output.renderOutput(dataTable, element);\n",
              "          const docLink = document.createElement('div');\n",
              "          docLink.innerHTML = docLinkHtml;\n",
              "          element.appendChild(docLink);\n",
              "        }\n",
              "      </script>\n",
              "    </div>\n",
              "  </div>\n",
              "  "
            ]
          },
          "metadata": {},
          "execution_count": 20
        }
      ],
      "source": [
        "df.head()"
      ]
    },
    {
      "cell_type": "code",
      "execution_count": null,
      "metadata": {
        "colab": {
          "base_uri": "https://localhost:8080/",
          "height": 382
        },
        "id": "-BXW_gwBHe1k",
        "outputId": "ed01692c-1de8-4130-84a2-154c742b3baa"
      },
      "outputs": [
        {
          "output_type": "execute_result",
          "data": {
            "text/plain": [
              "       state_code   dist_code  population_total  population_male  \\\n",
              "count  493.000000  493.000000      4.930000e+02     4.930000e+02   \n",
              "mean    18.643002   16.782961      4.481124e+05     2.343468e+05   \n",
              "std      9.297168   15.566131      1.033228e+06     5.487786e+05   \n",
              "min      1.000000    1.000000      1.000360e+05     5.020100e+04   \n",
              "25%      9.000000    7.000000      1.261420e+05     6.638400e+04   \n",
              "50%     19.000000   13.000000      1.841330e+05     9.665500e+04   \n",
              "75%     27.000000   21.000000      3.490330e+05     1.750550e+05   \n",
              "max     35.000000   99.000000      1.247845e+07     6.736815e+06   \n",
              "\n",
              "       population_female  0-6_population_total  0-6_population_male  \\\n",
              "count       4.930000e+02          4.930000e+02           493.000000   \n",
              "mean        2.137656e+05          4.709285e+04         24849.527383   \n",
              "std         4.848622e+05          1.050279e+05         55535.310272   \n",
              "min         4.512600e+04          6.547000e+03          3406.000000   \n",
              "25%         6.041100e+04          1.363900e+04          7221.000000   \n",
              "50%         8.776800e+04          1.944000e+04         10342.000000   \n",
              "75%         1.700260e+05          3.794500e+04         19982.000000   \n",
              "max         5.741632e+06          1.209275e+06        647938.000000   \n",
              "\n",
              "       0-6_population_female  literates_total  literates_male  \\\n",
              "count             493.000000     4.930000e+02    4.930000e+02   \n",
              "mean            22243.320487     3.461527e+05    1.894384e+05   \n",
              "std             49523.241379     8.220952e+05    4.534753e+05   \n",
              "min              3107.000000     5.699800e+04    3.475100e+04   \n",
              "25%              6457.000000     9.768700e+04    5.357800e+04   \n",
              "50%              9172.000000     1.413290e+05    7.590600e+04   \n",
              "75%             17954.000000     2.679000e+05    1.455480e+05   \n",
              "max            561337.000000     1.023759e+07    5.727774e+06   \n",
              "\n",
              "       literates_female    sex_ratio  child_sex_ratio  \\\n",
              "count      4.930000e+02   493.000000       493.000000   \n",
              "mean       1.567143e+05   930.294118       902.332657   \n",
              "std        3.690677e+05    55.849106        49.794689   \n",
              "min        2.224700e+04   700.000000       762.000000   \n",
              "25%        4.391400e+04   890.000000       868.000000   \n",
              "50%        6.383600e+04   922.000000       903.000000   \n",
              "75%        1.235030e+05   971.000000       942.000000   \n",
              "max        4.509812e+06  1093.000000      1185.000000   \n",
              "\n",
              "       effective_literacy_rate_total  effective_literacy_rate_male  \\\n",
              "count                     493.000000                    493.000000   \n",
              "mean                       85.131460                     89.920162   \n",
              "std                         6.186345                      5.377492   \n",
              "min                        49.510000                     52.270000   \n",
              "25%                        81.750000                     87.280000   \n",
              "50%                        85.970000                     91.180000   \n",
              "75%                        89.330000                     93.400000   \n",
              "max                        98.800000                     99.300000   \n",
              "\n",
              "       effective_literacy_rate_female  total_graduates  male_graduates  \\\n",
              "count                      493.000000     4.930000e+02    4.930000e+02   \n",
              "mean                        79.967181     6.620236e+04    3.771556e+04   \n",
              "std                          7.577825     1.778187e+05    9.849574e+04   \n",
              "min                         46.450000     2.532000e+03    1.703000e+03   \n",
              "25%                         75.800000     1.527700e+04    9.289000e+03   \n",
              "50%                         80.920000     2.395900e+04    1.404900e+04   \n",
              "75%                         85.400000     5.036700e+04    2.787200e+04   \n",
              "max                         98.310000     2.221137e+06    1.210040e+06   \n",
              "\n",
              "       female_graduates         age  \n",
              "count      4.930000e+02  493.000000  \n",
              "mean       2.848680e+04   37.312373  \n",
              "std        7.951556e+04   13.653515  \n",
              "min        8.290000e+02   17.000000  \n",
              "25%        6.114000e+03   26.000000  \n",
              "50%        9.558000e+03   35.000000  \n",
              "75%        2.086600e+04   46.000000  \n",
              "max        1.011097e+06   80.000000  "
            ],
            "text/html": [
              "\n",
              "  <div id=\"df-8c45b5f9-04bb-4930-a242-d0b22c41809a\">\n",
              "    <div class=\"colab-df-container\">\n",
              "      <div>\n",
              "<style scoped>\n",
              "    .dataframe tbody tr th:only-of-type {\n",
              "        vertical-align: middle;\n",
              "    }\n",
              "\n",
              "    .dataframe tbody tr th {\n",
              "        vertical-align: top;\n",
              "    }\n",
              "\n",
              "    .dataframe thead th {\n",
              "        text-align: right;\n",
              "    }\n",
              "</style>\n",
              "<table border=\"1\" class=\"dataframe\">\n",
              "  <thead>\n",
              "    <tr style=\"text-align: right;\">\n",
              "      <th></th>\n",
              "      <th>state_code</th>\n",
              "      <th>dist_code</th>\n",
              "      <th>population_total</th>\n",
              "      <th>population_male</th>\n",
              "      <th>population_female</th>\n",
              "      <th>0-6_population_total</th>\n",
              "      <th>0-6_population_male</th>\n",
              "      <th>0-6_population_female</th>\n",
              "      <th>literates_total</th>\n",
              "      <th>literates_male</th>\n",
              "      <th>literates_female</th>\n",
              "      <th>sex_ratio</th>\n",
              "      <th>child_sex_ratio</th>\n",
              "      <th>effective_literacy_rate_total</th>\n",
              "      <th>effective_literacy_rate_male</th>\n",
              "      <th>effective_literacy_rate_female</th>\n",
              "      <th>total_graduates</th>\n",
              "      <th>male_graduates</th>\n",
              "      <th>female_graduates</th>\n",
              "      <th>age</th>\n",
              "    </tr>\n",
              "  </thead>\n",
              "  <tbody>\n",
              "    <tr>\n",
              "      <th>count</th>\n",
              "      <td>493.000000</td>\n",
              "      <td>493.000000</td>\n",
              "      <td>4.930000e+02</td>\n",
              "      <td>4.930000e+02</td>\n",
              "      <td>4.930000e+02</td>\n",
              "      <td>4.930000e+02</td>\n",
              "      <td>493.000000</td>\n",
              "      <td>493.000000</td>\n",
              "      <td>4.930000e+02</td>\n",
              "      <td>4.930000e+02</td>\n",
              "      <td>4.930000e+02</td>\n",
              "      <td>493.000000</td>\n",
              "      <td>493.000000</td>\n",
              "      <td>493.000000</td>\n",
              "      <td>493.000000</td>\n",
              "      <td>493.000000</td>\n",
              "      <td>4.930000e+02</td>\n",
              "      <td>4.930000e+02</td>\n",
              "      <td>4.930000e+02</td>\n",
              "      <td>493.000000</td>\n",
              "    </tr>\n",
              "    <tr>\n",
              "      <th>mean</th>\n",
              "      <td>18.643002</td>\n",
              "      <td>16.782961</td>\n",
              "      <td>4.481124e+05</td>\n",
              "      <td>2.343468e+05</td>\n",
              "      <td>2.137656e+05</td>\n",
              "      <td>4.709285e+04</td>\n",
              "      <td>24849.527383</td>\n",
              "      <td>22243.320487</td>\n",
              "      <td>3.461527e+05</td>\n",
              "      <td>1.894384e+05</td>\n",
              "      <td>1.567143e+05</td>\n",
              "      <td>930.294118</td>\n",
              "      <td>902.332657</td>\n",
              "      <td>85.131460</td>\n",
              "      <td>89.920162</td>\n",
              "      <td>79.967181</td>\n",
              "      <td>6.620236e+04</td>\n",
              "      <td>3.771556e+04</td>\n",
              "      <td>2.848680e+04</td>\n",
              "      <td>37.312373</td>\n",
              "    </tr>\n",
              "    <tr>\n",
              "      <th>std</th>\n",
              "      <td>9.297168</td>\n",
              "      <td>15.566131</td>\n",
              "      <td>1.033228e+06</td>\n",
              "      <td>5.487786e+05</td>\n",
              "      <td>4.848622e+05</td>\n",
              "      <td>1.050279e+05</td>\n",
              "      <td>55535.310272</td>\n",
              "      <td>49523.241379</td>\n",
              "      <td>8.220952e+05</td>\n",
              "      <td>4.534753e+05</td>\n",
              "      <td>3.690677e+05</td>\n",
              "      <td>55.849106</td>\n",
              "      <td>49.794689</td>\n",
              "      <td>6.186345</td>\n",
              "      <td>5.377492</td>\n",
              "      <td>7.577825</td>\n",
              "      <td>1.778187e+05</td>\n",
              "      <td>9.849574e+04</td>\n",
              "      <td>7.951556e+04</td>\n",
              "      <td>13.653515</td>\n",
              "    </tr>\n",
              "    <tr>\n",
              "      <th>min</th>\n",
              "      <td>1.000000</td>\n",
              "      <td>1.000000</td>\n",
              "      <td>1.000360e+05</td>\n",
              "      <td>5.020100e+04</td>\n",
              "      <td>4.512600e+04</td>\n",
              "      <td>6.547000e+03</td>\n",
              "      <td>3406.000000</td>\n",
              "      <td>3107.000000</td>\n",
              "      <td>5.699800e+04</td>\n",
              "      <td>3.475100e+04</td>\n",
              "      <td>2.224700e+04</td>\n",
              "      <td>700.000000</td>\n",
              "      <td>762.000000</td>\n",
              "      <td>49.510000</td>\n",
              "      <td>52.270000</td>\n",
              "      <td>46.450000</td>\n",
              "      <td>2.532000e+03</td>\n",
              "      <td>1.703000e+03</td>\n",
              "      <td>8.290000e+02</td>\n",
              "      <td>17.000000</td>\n",
              "    </tr>\n",
              "    <tr>\n",
              "      <th>25%</th>\n",
              "      <td>9.000000</td>\n",
              "      <td>7.000000</td>\n",
              "      <td>1.261420e+05</td>\n",
              "      <td>6.638400e+04</td>\n",
              "      <td>6.041100e+04</td>\n",
              "      <td>1.363900e+04</td>\n",
              "      <td>7221.000000</td>\n",
              "      <td>6457.000000</td>\n",
              "      <td>9.768700e+04</td>\n",
              "      <td>5.357800e+04</td>\n",
              "      <td>4.391400e+04</td>\n",
              "      <td>890.000000</td>\n",
              "      <td>868.000000</td>\n",
              "      <td>81.750000</td>\n",
              "      <td>87.280000</td>\n",
              "      <td>75.800000</td>\n",
              "      <td>1.527700e+04</td>\n",
              "      <td>9.289000e+03</td>\n",
              "      <td>6.114000e+03</td>\n",
              "      <td>26.000000</td>\n",
              "    </tr>\n",
              "    <tr>\n",
              "      <th>50%</th>\n",
              "      <td>19.000000</td>\n",
              "      <td>13.000000</td>\n",
              "      <td>1.841330e+05</td>\n",
              "      <td>9.665500e+04</td>\n",
              "      <td>8.776800e+04</td>\n",
              "      <td>1.944000e+04</td>\n",
              "      <td>10342.000000</td>\n",
              "      <td>9172.000000</td>\n",
              "      <td>1.413290e+05</td>\n",
              "      <td>7.590600e+04</td>\n",
              "      <td>6.383600e+04</td>\n",
              "      <td>922.000000</td>\n",
              "      <td>903.000000</td>\n",
              "      <td>85.970000</td>\n",
              "      <td>91.180000</td>\n",
              "      <td>80.920000</td>\n",
              "      <td>2.395900e+04</td>\n",
              "      <td>1.404900e+04</td>\n",
              "      <td>9.558000e+03</td>\n",
              "      <td>35.000000</td>\n",
              "    </tr>\n",
              "    <tr>\n",
              "      <th>75%</th>\n",
              "      <td>27.000000</td>\n",
              "      <td>21.000000</td>\n",
              "      <td>3.490330e+05</td>\n",
              "      <td>1.750550e+05</td>\n",
              "      <td>1.700260e+05</td>\n",
              "      <td>3.794500e+04</td>\n",
              "      <td>19982.000000</td>\n",
              "      <td>17954.000000</td>\n",
              "      <td>2.679000e+05</td>\n",
              "      <td>1.455480e+05</td>\n",
              "      <td>1.235030e+05</td>\n",
              "      <td>971.000000</td>\n",
              "      <td>942.000000</td>\n",
              "      <td>89.330000</td>\n",
              "      <td>93.400000</td>\n",
              "      <td>85.400000</td>\n",
              "      <td>5.036700e+04</td>\n",
              "      <td>2.787200e+04</td>\n",
              "      <td>2.086600e+04</td>\n",
              "      <td>46.000000</td>\n",
              "    </tr>\n",
              "    <tr>\n",
              "      <th>max</th>\n",
              "      <td>35.000000</td>\n",
              "      <td>99.000000</td>\n",
              "      <td>1.247845e+07</td>\n",
              "      <td>6.736815e+06</td>\n",
              "      <td>5.741632e+06</td>\n",
              "      <td>1.209275e+06</td>\n",
              "      <td>647938.000000</td>\n",
              "      <td>561337.000000</td>\n",
              "      <td>1.023759e+07</td>\n",
              "      <td>5.727774e+06</td>\n",
              "      <td>4.509812e+06</td>\n",
              "      <td>1093.000000</td>\n",
              "      <td>1185.000000</td>\n",
              "      <td>98.800000</td>\n",
              "      <td>99.300000</td>\n",
              "      <td>98.310000</td>\n",
              "      <td>2.221137e+06</td>\n",
              "      <td>1.210040e+06</td>\n",
              "      <td>1.011097e+06</td>\n",
              "      <td>80.000000</td>\n",
              "    </tr>\n",
              "  </tbody>\n",
              "</table>\n",
              "</div>\n",
              "      <button class=\"colab-df-convert\" onclick=\"convertToInteractive('df-8c45b5f9-04bb-4930-a242-d0b22c41809a')\"\n",
              "              title=\"Convert this dataframe to an interactive table.\"\n",
              "              style=\"display:none;\">\n",
              "        \n",
              "  <svg xmlns=\"http://www.w3.org/2000/svg\" height=\"24px\"viewBox=\"0 0 24 24\"\n",
              "       width=\"24px\">\n",
              "    <path d=\"M0 0h24v24H0V0z\" fill=\"none\"/>\n",
              "    <path d=\"M18.56 5.44l.94 2.06.94-2.06 2.06-.94-2.06-.94-.94-2.06-.94 2.06-2.06.94zm-11 1L8.5 8.5l.94-2.06 2.06-.94-2.06-.94L8.5 2.5l-.94 2.06-2.06.94zm10 10l.94 2.06.94-2.06 2.06-.94-2.06-.94-.94-2.06-.94 2.06-2.06.94z\"/><path d=\"M17.41 7.96l-1.37-1.37c-.4-.4-.92-.59-1.43-.59-.52 0-1.04.2-1.43.59L10.3 9.45l-7.72 7.72c-.78.78-.78 2.05 0 2.83L4 21.41c.39.39.9.59 1.41.59.51 0 1.02-.2 1.41-.59l7.78-7.78 2.81-2.81c.8-.78.8-2.07 0-2.86zM5.41 20L4 18.59l7.72-7.72 1.47 1.35L5.41 20z\"/>\n",
              "  </svg>\n",
              "      </button>\n",
              "      \n",
              "  <style>\n",
              "    .colab-df-container {\n",
              "      display:flex;\n",
              "      flex-wrap:wrap;\n",
              "      gap: 12px;\n",
              "    }\n",
              "\n",
              "    .colab-df-convert {\n",
              "      background-color: #E8F0FE;\n",
              "      border: none;\n",
              "      border-radius: 50%;\n",
              "      cursor: pointer;\n",
              "      display: none;\n",
              "      fill: #1967D2;\n",
              "      height: 32px;\n",
              "      padding: 0 0 0 0;\n",
              "      width: 32px;\n",
              "    }\n",
              "\n",
              "    .colab-df-convert:hover {\n",
              "      background-color: #E2EBFA;\n",
              "      box-shadow: 0px 1px 2px rgba(60, 64, 67, 0.3), 0px 1px 3px 1px rgba(60, 64, 67, 0.15);\n",
              "      fill: #174EA6;\n",
              "    }\n",
              "\n",
              "    [theme=dark] .colab-df-convert {\n",
              "      background-color: #3B4455;\n",
              "      fill: #D2E3FC;\n",
              "    }\n",
              "\n",
              "    [theme=dark] .colab-df-convert:hover {\n",
              "      background-color: #434B5C;\n",
              "      box-shadow: 0px 1px 3px 1px rgba(0, 0, 0, 0.15);\n",
              "      filter: drop-shadow(0px 1px 2px rgba(0, 0, 0, 0.3));\n",
              "      fill: #FFFFFF;\n",
              "    }\n",
              "  </style>\n",
              "\n",
              "      <script>\n",
              "        const buttonEl =\n",
              "          document.querySelector('#df-8c45b5f9-04bb-4930-a242-d0b22c41809a button.colab-df-convert');\n",
              "        buttonEl.style.display =\n",
              "          google.colab.kernel.accessAllowed ? 'block' : 'none';\n",
              "\n",
              "        async function convertToInteractive(key) {\n",
              "          const element = document.querySelector('#df-8c45b5f9-04bb-4930-a242-d0b22c41809a');\n",
              "          const dataTable =\n",
              "            await google.colab.kernel.invokeFunction('convertToInteractive',\n",
              "                                                     [key], {});\n",
              "          if (!dataTable) return;\n",
              "\n",
              "          const docLinkHtml = 'Like what you see? Visit the ' +\n",
              "            '<a target=\"_blank\" href=https://colab.research.google.com/notebooks/data_table.ipynb>data table notebook</a>'\n",
              "            + ' to learn more about interactive tables.';\n",
              "          element.innerHTML = '';\n",
              "          dataTable['output_type'] = 'display_data';\n",
              "          await google.colab.output.renderOutput(dataTable, element);\n",
              "          const docLink = document.createElement('div');\n",
              "          docLink.innerHTML = docLinkHtml;\n",
              "          element.appendChild(docLink);\n",
              "        }\n",
              "      </script>\n",
              "    </div>\n",
              "  </div>\n",
              "  "
            ]
          },
          "metadata": {},
          "execution_count": 21
        }
      ],
      "source": [
        "df.describe()"
      ]
    },
    {
      "cell_type": "code",
      "execution_count": null,
      "metadata": {
        "colab": {
          "base_uri": "https://localhost:8080/"
        },
        "id": "spOYK2-K2C_C",
        "outputId": "e256b4f5-e4af-403d-e970-cec9e981be5f"
      },
      "outputs": [
        {
          "output_type": "execute_result",
          "data": {
            "text/plain": [
              "name_of_city                      0\n",
              "state_code                        0\n",
              "state_name                        0\n",
              "dist_code                         0\n",
              "population_total                  0\n",
              "population_male                   0\n",
              "population_female                 0\n",
              "0-6_population_total              0\n",
              "0-6_population_male               0\n",
              "0-6_population_female             0\n",
              "literates_total                   0\n",
              "literates_male                    0\n",
              "literates_female                  0\n",
              "sex_ratio                         0\n",
              "child_sex_ratio                   0\n",
              "effective_literacy_rate_total     0\n",
              "effective_literacy_rate_male      0\n",
              "effective_literacy_rate_female    0\n",
              "location                          0\n",
              "total_graduates                   0\n",
              "male_graduates                    0\n",
              "female_graduates                  0\n",
              "age                               0\n",
              "dtype: int64"
            ]
          },
          "metadata": {},
          "execution_count": 22
        }
      ],
      "source": [
        "df.isnull().sum()"
      ]
    },
    {
      "cell_type": "code",
      "execution_count": null,
      "metadata": {
        "colab": {
          "base_uri": "https://localhost:8080/",
          "height": 404
        },
        "id": "_H1nAkjkBcYr",
        "outputId": "3e29884e-40bd-40e6-9963-9daf27f60985"
      },
      "outputs": [
        {
          "output_type": "display_data",
          "data": {
            "text/plain": [
              "<Figure size 1080x432 with 1 Axes>"
            ],
            "image/png": "[encoded data removed]"
          },
          "metadata": {
            "needs_background": "light"
          }
        }
      ],
      "source": [
        "df_Tier_1 = df.population_total[(df.population_total>1500000)]\n",
        "df_Tier_2 = df.population_total[(df.population_total<1500000) & (df.population_total>1000000)]\n",
        "df_Tier_3 = df.population_total[(df.population_total<1000000) & (df.population_total>500000)]\n",
        "df_Tier_4 = df.population_total[(df.population_total<500000)]\n",
        "\n",
        "pop_x=['>15','15-10','10-5','<5']\n",
        "pop_y=[len(df_Tier_1.values), len(df_Tier_2.values), len(df_Tier_3.values), len(df_Tier_4.values)]\n",
        "plt.figure(figsize=(15,6))\n",
        "sns.barplot(x=pop_x, y=pop_y, palette=\"mako\")\n",
        "plt.title('Population distribution of the cites')\n",
        "plt.xlabel('Population in Lakhs')\n",
        "plt.ylabel('Number of Cites')\n",
        "plt.show()"
      ]
    },
    {
      "cell_type": "code",
      "execution_count": null,
      "metadata": {
        "colab": {
          "base_uri": "https://localhost:8080/",
          "height": 404
        },
        "id": "LjHT-p3aFjfs",
        "outputId": "3b148ae7-1440-4f2e-84e6-aa8771d941f5"
      },
      "outputs": [
        {
          "output_type": "display_data",
          "data": {
            "text/plain": [
              "<Figure size 1080x432 with 1 Axes>"
            ],
            "image/png": "[encoded data removed]"
          },
          "metadata": {
            "needs_background": "light"
          }
        }
      ],
      "source": [
        "df_Lit_1 = df.effective_literacy_rate_total\t [(df.effective_literacy_rate_total>90.0)]\n",
        "df_Lit_2 = df.effective_literacy_rate_total\t [(df.effective_literacy_rate_total\t <90.0) & (df.effective_literacy_rate_total\t >80.0)]\n",
        "df_Lit_3 = df.effective_literacy_rate_total\t [(df.effective_literacy_rate_total\t <80.0) & (df.effective_literacy_rate_total\t >70.0)]\n",
        "df_Lit_4 = df.effective_literacy_rate_total\t [(df.literates_total <70.0)]\n",
        "\n",
        "\n",
        "pop_x=['>90%','90%-80%','80%-70%','<60%']\n",
        "pop_y=[len(df_Lit_1.values), len(df_Lit_2.values), len(df_Lit_3.values), len(df_Lit_4.values)]\n",
        "plt.figure(figsize=(15,6))\n",
        "sns.barplot(x=pop_x, y=pop_y, palette=\"mako\")\n",
        "plt.title('Literacy Rate of Cites')\n",
        "plt.xlabel('Percentage')\n",
        "plt.ylabel('Number of Cites')\n",
        "plt.show()"
      ]
    },
    {
      "cell_type": "code",
      "execution_count": null,
      "metadata": {
        "colab": {
          "base_uri": "https://localhost:8080/",
          "height": 387
        },
        "id": "nuvfoBipKMTz",
        "outputId": "3ce7c4f6-e386-4232-96e0-5b9e8066ad55"
      },
      "outputs": [
        {
          "output_type": "execute_result",
          "data": {
            "text/plain": [
              "<seaborn.axisgrid.FacetGrid at 0x7fb13dbe7250>"
            ]
          },
          "metadata": {},
          "execution_count": 25
        },
        {
          "output_type": "display_data",
          "data": {
            "text/plain": [
              "<Figure size 360x360 with 1 Axes>"
            ],
            "image/png": "[encoded data removed]"
          },
          "metadata": {
            "needs_background": "light"
          }
        }
      ],
      "source": [
        "sns.relplot(x = 'population_total', y = 'effective_literacy_rate_total', data=df)"
      ]
    },
    {
      "cell_type": "code",
      "execution_count": null,
      "metadata": {
        "id": "sjEpUnGZLYyZ",
        "colab": {
          "base_uri": "https://localhost:8080/",
          "height": 404
        },
        "outputId": "a6003f67-695d-4c32-e4bf-75fbb9c35e63"
      },
      "outputs": [
        {
          "output_type": "display_data",
          "data": {
            "text/plain": [
              "<Figure size 1080x432 with 1 Axes>"
            ],
            "image/png": "[encoded data removed]"
          },
          "metadata": {
            "needs_background": "light"
          }
        }
      ],
      "source": [
        "df_Age1 = df.age[(df['age']>17) & (df['age']<24)]\n",
        "df_Age2 = df.age[(df['age']>24) & (df['age']<34)]\n",
        "df_Age3 = df.age[(df['age']>34) & (df['age']<44)]\n",
        "df_Age4 = df.age[(df['age']>44) & (df['age']<55)]\n",
        "df_Age5 = df.age[(df['age']>55)]\n",
        "\n",
        "Agex = ['17-24','24-34','34-44','44-55','55+']\n",
        "Agey = [len(df_Age1.values),len(df_Age2.values), len(df_Age3.values),len(df_Age4.values),len(df_Age5.values)]\n",
        "plt.figure(figsize=(15,6))\n",
        "sns.barplot(x=Agex, y=Agey, palette = \"mako\")\n",
        "plt.title(\"Age Distribution\")\n",
        "plt.xlabel(\"Age\")\n",
        "plt.ylabel(\"Number of pepole\")\n",
        "plt.show()"
      ]
    },
    {
      "cell_type": "code",
      "source": [
        "sns.relplot(x = 'population_total', y = 'age', data=df)"
      ],
      "metadata": {
        "colab": {
          "base_uri": "https://localhost:8080/",
          "height": 387
        },
        "id": "i7DG3dhIeuog",
        "outputId": "72610af2-8cf6-4504-8699-d6ef98aec7dc"
      },
      "execution_count": null,
      "outputs": [
        {
          "output_type": "execute_result",
          "data": {
            "text/plain": [
              "<seaborn.axisgrid.FacetGrid at 0x7fb13dc83b50>"
            ]
          },
          "metadata": {},
          "execution_count": 27
        },
        {
          "output_type": "display_data",
          "data": {
            "text/plain": [
              "<Figure size 360x360 with 1 Axes>"
            ],
            "image/png": "[encoded data removed]"
          },
          "metadata": {
            "needs_background": "light"
          }
        }
      ]
    },
    {
      "cell_type": "code",
      "source": [
        "X1=df.loc[:,[\"age\",\"population_total\"]].values\n",
        "\n",
        "from sklearn.cluster import KMeans\n",
        "wcss=[]\n",
        "for k in range(1,11):\n",
        "    kmeans = KMeans(n_clusters=k,init=\"k-means++\")\n",
        "    kmeans.fit(X1)\n",
        "    wcss.append(kmeans.inertia_)\n",
        "plt.figure(figsize=(15,6))\n",
        "plt.grid()\n",
        "plt.plot(range(1,11),wcss,linewidth=2, color=\"red\", marker = \"8\")\n",
        "plt.xlabel(\"K Value\")\n",
        "plt.ylabel(\"WCSS\")\n",
        "plt.show()"
      ],
      "metadata": {
        "colab": {
          "base_uri": "https://localhost:8080/",
          "height": 399
        },
        "id": "xyTbdwu0ez6t",
        "outputId": "8e20632c-0e74-4d37-bdd4-2daed06f0aad"
      },
      "execution_count": null,
      "outputs": [
        {
          "output_type": "display_data",
          "data": {
            "text/plain": [
              "<Figure size 1080x432 with 1 Axes>"
            ],
            "image/png": "[encoded data removed]"
          },
          "metadata": {
            "needs_background": "light"
          }
        }
      ]
    },
    {
      "cell_type": "code",
      "source": [
        "kmeans = KMeans(n_clusters=3,init=\"k-means++\")\n",
        "label = kmeans.fit_predict(X1)\n",
        "print(label)"
      ],
      "metadata": {
        "colab": {
          "base_uri": "https://localhost:8080/"
        },
        "id": "5bd1USOhfDUe",
        "outputId": "0e4606b5-79a6-42f8-c833-ea74098f33c2"
      },
      "execution_count": null,
      "outputs": [
        {
          "output_type": "stream",
          "name": "stdout",
          "text": [
            "[0 0 0 0 0 0 0 1 0 0 0 0 0 0 0 0 0 0 0 0 0 0 0 0 0 0 0 0 0 0 0 0 0 0 0 0 0\n",
            " 0 0 0 0 0 0 0 0 0 0 0 0 0 0 0 0 0 0 0 0 0 0 0 0 0 0 0 0 0 0 0 0 0 0 0 2 0\n",
            " 0 0 0 0 0 0 0 0 0 0 0 0 0 0 0 0 0 0 0 0 0 0 0 0 0 0 0 0 0 0 0 0 0 0 0 0 0\n",
            " 0 0 0 0 0 0 0 0 1 0 0 0 0 0 0 0 0 0 0 0 0 0 0 0 0 0 0 0 0 0 2 0 0 0 0 0 0\n",
            " 0 0 0 0 0 0 0 0 0 0 0 0 0 0 0 0 0 0 0 0 0 0 0 0 0 0 0 0 0 0 0 0 0 0 0 0 1\n",
            " 2 0 0 0 0 0 0 0 0 0 0 0 0 0 0 0 0 0 0 0 0 0 0 0 0 0 0 0 0 0 0 0 0 0 0 0 0\n",
            " 0 0 0 1 0 0 0 0 0 0 0 0 0 0 0 0 0 0 0 0 0 0 0 0 0 0 0 0 0 1 0 0 0 0 0 0 0\n",
            " 0 0 0 0 0 0 0 0 0 0 0 0 0 0 0 1 0 0 0 0 0 0 0 0 0 0 0 0 0 1 0 0 0 0 0 0 0\n",
            " 0 0 0 0 0 0 0 0 0 0 0 0 0 0 0 0 0 0 0 0 0 0 0 0 0 0 0 0 0 0 0 0 0 0 0 0 0\n",
            " 0 1 0 0 0 0 0 0 0 0 0 0 0 0 0 0 0 0 0 0 0 0 0 0 0 0 0 0 0 0 0 0 0 0 0 0 0\n",
            " 0 0 0 0 0 0 0 0 0 0 1 0 0 0 0 0 0 0 0 0 0 0 0 0 0 0 0 0 0 0 0 0 0 0 0 0 0\n",
            " 0 0 0 0 0 0 0 0 0 0 0 0 0 0 0 0 0 0 0 0 0 0 0 0 0 0 0 0 0 0 0 0 0 0 0 0 0\n",
            " 0 0 0 0 0 1 0 0 0 0 0 0 0 0 0 0 0 0 0 0 0 0 0 0 0 0 0 0 0 0 0 0 0 0 0 0 0\n",
            " 0 0 0 0 0 0 0 0 0 0 0 0]\n"
          ]
        }
      ]
    },
    {
      "cell_type": "code",
      "source": [
        "print(kmeans.cluster_centers_)"
      ],
      "metadata": {
        "colab": {
          "base_uri": "https://localhost:8080/"
        },
        "id": "Pig3ktsZfLtI",
        "outputId": "628fb40f-eb74-4797-c37d-f69aa8700dbd"
      },
      "execution_count": null,
      "outputs": [
        {
          "output_type": "stream",
          "name": "stdout",
          "text": [
            "[[3.71770833e+01 3.10041648e+05]\n",
            " [4.38000000e+01 4.01871570e+06]\n",
            " [3.73333333e+01 1.06374173e+07]]\n"
          ]
        }
      ]
    },
    {
      "cell_type": "code",
      "source": [
        "plt.scatter(X1[:,0],X1[:,1], c=kmeans.labels_, cmap='rainbow')\n",
        "plt.scatter(kmeans.cluster_centers_[:,0], kmeans.cluster_centers_[:,1], color=\"black\")\n",
        "plt.title(\"Clusters of Customers\")\n",
        "plt.xlabel(\"Age\")\n",
        "plt.ylabel('Population')\n",
        "plt.show()"
      ],
      "metadata": {
        "colab": {
          "base_uri": "https://localhost:8080/",
          "height": 295
        },
        "id": "IsTeicFKfOSP",
        "outputId": "1de1d54b-1098-43b0-d768-c04616db3e24"
      },
      "execution_count": null,
      "outputs": [
        {
          "output_type": "display_data",
          "data": {
            "text/plain": [
              "<Figure size 432x288 with 1 Axes>"
            ],
            "image/png": "[encoded data removed]"
          },
          "metadata": {
            "needs_background": "light"
          }
        }
      ]
    },
    {
      "cell_type": "code",
      "source": [],
      "metadata": {
        "id": "kbRIaV6QfQjj"
      },
      "execution_count": null,
      "outputs": []
    }
  ],
  "metadata": {
    "colab": {
      "collapsed_sections": [],
      "provenance": [],
      "include_colab_link": true
    },
    "kernelspec": {
      "display_name": "Python 3",
      "name": "python3"
    },
    "language_info": {
      "name": "python"
    }
  },
  "nbformat": 4,
  "nbformat_minor": 0
}